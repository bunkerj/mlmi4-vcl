{
 "cells": [
  {
   "cell_type": "markdown",
   "metadata": {},
   "source": [
    "# 1. Instruction\n",
    "\n",
    "\n",
    "* **This directory contains:**\n",
    "  * `create_mnist.py`: creates **MNIST** dataset\n",
    "  * `create_notmnist.py`: creates **NotMNIST** dataset\n",
    "  * `create_fashionmnist.py`: creates **FashionMNIST** dataset\n",
    "\n",
    "\n",
    "* **Running these three files will create following pickle files:**\n",
    "* (Raw data will be downloaded from the web if it does not exist)\n",
    "\n",
    "|Dataset|Directory|Train|Test|\n",
    "|-|-|-|-|\n",
    "|**MNIST**|`processed/mnist/`|`MNIST_X_train.pt`<br>`MNIST_Y_train.pt`|`MNIST_X_test.pt`<br>`MNIST_Y_test.pt`|\n",
    "|**Not MNIST**|`processed/not_mnist/`|`NotMNIST_X_train.pt`<br>`NotMNIST_Y_train.pt`|`NotMNIST_X_test.pt`<br>`NotMNIST_Y_test.pt`|\n",
    "|**Fashion MNIST**|`processed/fashion_mnist/`|`FashionMNIST_X_train.pt`<br>`FashionMNIST_Y_train.pt`|`FashionMNIST_X_test.pt`<br>`FashionMNIST_Y_test.pt`|\n",
    "\n",
    "* ****"
   ]
  },
  {
   "cell_type": "markdown",
   "metadata": {},
   "source": [
    "# 2. Datasets"
   ]
  },
  {
   "cell_type": "code",
   "execution_count": 1,
   "metadata": {},
   "outputs": [],
   "source": [
    "import matplotlib.pylab as plt\n",
    "import numpy as np\n",
    "import torch"
   ]
  },
  {
   "cell_type": "markdown",
   "metadata": {},
   "source": [
    "## 2.1. MNIST\n",
    "\n",
    "|**MNIST**|\n",
    "|-|-|-|-|-|-|-|-|-|-|-|\n",
    "|**Input**|flattened images of digits|0|1|2|3|4|5|6|7|8|9|\n",
    "|**Output**|corresponding integers|0|1|2|3|4|5|6|7|8|9|"
   ]
  },
  {
   "cell_type": "code",
   "execution_count": 2,
   "metadata": {},
   "outputs": [],
   "source": [
    "X_train = torch.load('processed/mnist/MNIST_X_train.pt')\n",
    "Y_train = torch.load('processed/mnist/MNIST_Y_train.pt')\n",
    "X_test = torch.load('processed/mnist/MNIST_X_test.pt')\n",
    "Y_test = torch.load('processed/mnist/MNIST_Y_test.pt')"
   ]
  },
  {
   "cell_type": "markdown",
   "metadata": {},
   "source": [
    "### Dimension\n",
    "\n",
    "* $60000$ training images / $10000$ test images\n",
    "* Dimension of each image: $28\\times 28 = 784$"
   ]
  },
  {
   "cell_type": "code",
   "execution_count": 3,
   "metadata": {
    "scrolled": false
   },
   "outputs": [
    {
     "data": {
      "text/plain": [
       "(torch.Size([60000, 784]), torch.Size([60000]))"
      ]
     },
     "execution_count": 3,
     "metadata": {},
     "output_type": "execute_result"
    }
   ],
   "source": [
    "X_train.shape, Y_train.shape"
   ]
  },
  {
   "cell_type": "code",
   "execution_count": 4,
   "metadata": {},
   "outputs": [
    {
     "data": {
      "text/plain": [
       "(torch.Size([10000, 784]), torch.Size([10000]))"
      ]
     },
     "execution_count": 4,
     "metadata": {},
     "output_type": "execute_result"
    }
   ],
   "source": [
    "X_test.shape, Y_test.shape"
   ]
  },
  {
   "cell_type": "markdown",
   "metadata": {},
   "source": [
    "### Data Visualization"
   ]
  },
  {
   "cell_type": "code",
   "execution_count": 5,
   "metadata": {},
   "outputs": [
    {
     "data": {
      "image/png": "[encoded data removed]",
      "text/plain": [
       "<matplotlib.figure.Figure at 0x12c3fc6a0>"
      ]
     },
     "metadata": {},
     "output_type": "display_data"
    }
   ],
   "source": [
    "index = np.random.randint(1,X_train.shape[0],5)\n",
    "num_images = len(index); i = 1\n",
    "\n",
    "plt.figure(figsize=(20, 5))\n",
    "plt.rcParams.update({'font.size': 15})\n",
    "\n",
    "for idx in index:\n",
    "    plt.subplot(1,num_images,i)\n",
    "    plt.imshow(X_train[idx].numpy().reshape(28,28), cmap = 'gray')\n",
    "    plt.title('Index: {}, Output: {}'.format(idx, Y_train[idx]))\n",
    "    plt.xticks([],[]); plt.yticks([],[])\n",
    "    i += 1"
   ]
  },
  {
   "cell_type": "markdown",
   "metadata": {},
   "source": [
    "## 2.2. NotMNIST\n",
    "\n",
    "|**Not MNIST**|\n",
    "|-|-|-|-|-|-|-|-|-|-|-|\n",
    "|**Input**|flattened images of characters|A|B|C|D|E|F|G|H|I|J|\n",
    "|**Output**|corresponding integers|0|1|2|3|4|5|6|7|8|9|"
   ]
  },
  {
   "cell_type": "code",
   "execution_count": 6,
   "metadata": {},
   "outputs": [],
   "source": [
    "X_train = torch.load('processed/not_mnist/NotMNIST_X_train.pt')\n",
    "Y_train = torch.load('processed/not_mnist/NotMNIST_Y_train.pt')\n",
    "X_test = torch.load('processed/not_mnist/NotMNIST_X_test.pt')\n",
    "Y_test = torch.load('processed/not_mnist/NotMNIST_Y_test.pt')"
   ]
  },
  {
   "cell_type": "markdown",
   "metadata": {},
   "source": [
    "### Dimension\n",
    "\n",
    "* $16851$ training images / $1873$ test images\n",
    "* Dimension of each image: $28\\times 28 = 784$"
   ]
  },
  {
   "cell_type": "code",
   "execution_count": 7,
   "metadata": {
    "scrolled": false
   },
   "outputs": [
    {
     "data": {
      "text/plain": [
       "(torch.Size([16851, 784]), torch.Size([16851]))"
      ]
     },
     "execution_count": 7,
     "metadata": {},
     "output_type": "execute_result"
    }
   ],
   "source": [
    "X_train.shape, Y_train.shape"
   ]
  },
  {
   "cell_type": "code",
   "execution_count": 8,
   "metadata": {},
   "outputs": [
    {
     "data": {
      "text/plain": [
       "(torch.Size([1873, 784]), torch.Size([1873]))"
      ]
     },
     "execution_count": 8,
     "metadata": {},
     "output_type": "execute_result"
    }
   ],
   "source": [
    "X_test.shape, Y_test.shape"
   ]
  },
  {
   "cell_type": "markdown",
   "metadata": {},
   "source": [
    "### Data Visualization"
   ]
  },
  {
   "cell_type": "code",
   "execution_count": 9,
   "metadata": {},
   "outputs": [
    {
     "data": {
      "image/png": "[encoded data removed]",
      "text/plain": [
       "<matplotlib.figure.Figure at 0x12c3fc1d0>"
      ]
     },
     "metadata": {},
     "output_type": "display_data"
    }
   ],
   "source": [
    "index = np.random.randint(1,X_train.shape[0],5)\n",
    "num_images = len(index); i = 1\n",
    "\n",
    "plt.figure(figsize=(20, 5))\n",
    "plt.rcParams.update({'font.size': 15})\n",
    "\n",
    "for idx in index:\n",
    "    plt.subplot(1,num_images,i)\n",
    "    plt.imshow(X_train[idx].numpy().reshape(28,28), cmap = 'gray')\n",
    "    plt.title('Index: {}, Output: {}'.format(idx, Y_train[idx]))\n",
    "    plt.xticks([],[]); plt.yticks([],[])\n",
    "    i += 1"
   ]
  },
  {
   "cell_type": "markdown",
   "metadata": {},
   "source": [
    "## 2.3. Fashion MNIST\n",
    "\n",
    "|**Fashion MNIST**|\n",
    "|-|-|-|-|-|-|-|-|-|-|-|\n",
    "|**Input**|flattened images of fashion items|T-shirt/top|Trouser|Pullover|Dress|Coat|Sandal|Shirt|Sneaker|Bag|Ankle Boot|\n",
    "|**Output**|corresponding integers|0|1|2|3|4|5|6|7|8|9|"
   ]
  },
  {
   "cell_type": "code",
   "execution_count": 10,
   "metadata": {},
   "outputs": [],
   "source": [
    "X_train = torch.load('processed/fashion_mnist/FashionMNIST_X_train.pt')\n",
    "Y_train = torch.load('processed/fashion_mnist/FashionMNIST_Y_train.pt')\n",
    "X_test = torch.load('processed/fashion_mnist/FashionMNIST_X_test.pt')\n",
    "Y_test = torch.load('processed/fashion_mnist/FashionMNIST_Y_test.pt')"
   ]
  },
  {
   "cell_type": "markdown",
   "metadata": {},
   "source": [
    "### Dimension"
   ]
  },
  {
   "cell_type": "code",
   "execution_count": 11,
   "metadata": {
    "scrolled": false
   },
   "outputs": [
    {
     "data": {
      "text/plain": [
       "(torch.Size([60000, 784]), torch.Size([60000]))"
      ]
     },
     "execution_count": 11,
     "metadata": {},
     "output_type": "execute_result"
    }
   ],
   "source": [
    "X_train.shape, Y_train.shape"
   ]
  },
  {
   "cell_type": "code",
   "execution_count": 12,
   "metadata": {},
   "outputs": [
    {
     "data": {
      "text/plain": [
       "(torch.Size([10000, 784]), torch.Size([10000]))"
      ]
     },
     "execution_count": 12,
     "metadata": {},
     "output_type": "execute_result"
    }
   ],
   "source": [
    "X_test.shape, Y_test.shape"
   ]
  },
  {
   "cell_type": "markdown",
   "metadata": {},
   "source": [
    "### Data Visualization"
   ]
  },
  {
   "cell_type": "code",
   "execution_count": 13,
   "metadata": {},
   "outputs": [
    {
     "data": {
      "image/png": "[encoded data removed]",
      "text/plain": [
       "<matplotlib.figure.Figure at 0x12c3fc2b0>"
      ]
     },
     "metadata": {},
     "output_type": "display_data"
    }
   ],
   "source": [
    "index = np.random.randint(1,X_train.shape[0],5)\n",
    "num_images = len(index); i = 1\n",
    "\n",
    "plt.figure(figsize=(20, 5))\n",
    "plt.rcParams.update({'font.size': 15})\n",
    "\n",
    "for idx in index:\n",
    "    plt.subplot(1,num_images,i)\n",
    "    plt.imshow(X_train[idx].numpy().reshape(28,28), cmap = 'gray')\n",
    "    plt.title('Index: {}, Output: {}'.format(idx, Y_train[idx]))\n",
    "    plt.xticks([],[]); plt.yticks([],[])\n",
    "    i += 1"
   ]
  }
 ],
 "metadata": {
  "kernelspec": {
   "display_name": "Python 3",
   "language": "python",
   "name": "python3"
  },
  "language_info": {
   "codemirror_mode": {
    "name": "ipython",
    "version": 3
   },
   "file_extension": ".py",
   "mimetype": "text/x-python",
   "name": "python",
   "nbconvert_exporter": "python",
   "pygments_lexer": "ipython3",
   "version": "3.6.8"
  }
 },
 "nbformat": 4,
 "nbformat_minor": 2
}
